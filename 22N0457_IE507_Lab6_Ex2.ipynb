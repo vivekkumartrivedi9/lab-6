{
  "nbformat": 4,
  "nbformat_minor": 0,
  "metadata": {
    "colab": {
      "provenance": [],
      "collapsed_sections": []
    },
    "kernelspec": {
      "name": "python3",
      "display_name": "Python 3"
    },
    "language_info": {
      "name": "python"
    }
  },
  "cells": [
    {
      "cell_type": "markdown",
      "source": [
        "let $ c_{i \\ j}$ be  The cost of constructing (setup cost) the $i^{th}$ facility at the $j^{th} $ location and $x_{i \\ j} $ be the indicator variable \n",
        "\n",
        "i.e $x_{i \\ j}$ = 1 if $i^{th}$ facility located at the $j^{th} $ location $x_{i \\ j}$ = 0 if $i^{th}$ facility is not  located at the $j^{th} $ location \n",
        "\n",
        "let we have n facility and n location to assign\n",
        "\n",
        "so,our objective function is \n",
        "\n",
        " min$ \\sum_{i=1}^{i=n} \\sum_{j=1}^{j=n} x_{i \\ j}*c_{i \\ j}$\n",
        "\n",
        " subjected to $\\sum_{i=1}^{i=n} x_{i \\ j} =1 \\ \\ ∀j$ \n",
        " \n",
        " i.e at a location we have to assign only one facility \n",
        "\n",
        " $\\sum_{j=1}^{j=n} x_{i \\ j} =1 \\ \\  \\ \\ ∀i $ \n",
        " \n",
        " i.e a  facility can be assighned at single  location \n",
        "\n",
        " here i=(1,2,3,4,....................,n)\n",
        "\n",
        "j=(1,2,3,4,...................,n)\n",
        "\n",
        "$x_{i \\ j} \\in$ {0,1}"
      ],
      "metadata": {
        "id": "abgO8q6-4DHX"
      }
    },
    {
      "cell_type": "code",
      "source": [
        "!pip install -q pyomo"
      ],
      "metadata": {
        "id": "RX6UHLUowoH-"
      },
      "execution_count": null,
      "outputs": []
    },
    {
      "cell_type": "code",
      "source": [
        "import numpy as np"
      ],
      "metadata": {
        "id": "fu4r1Hs7woKg"
      },
      "execution_count": null,
      "outputs": []
    },
    {
      "cell_type": "code",
      "source": [
        "from pyomo.environ import *"
      ],
      "metadata": {
        "id": "Ta61SGBPwoNN"
      },
      "execution_count": null,
      "outputs": []
    },
    {
      "cell_type": "code",
      "source": [
        "import random as rd"
      ],
      "metadata": {
        "id": "OQyRl_4d8Ci-"
      },
      "execution_count": null,
      "outputs": []
    },
    {
      "cell_type": "code",
      "source": [
        "!apt-get install -y -qq coinor-cbc"
      ],
      "metadata": {
        "id": "TsaN8BYywoQl"
      },
      "execution_count": null,
      "outputs": []
    },
    {
      "cell_type": "code",
      "source": [
        "opt_cbc=SolverFactory('cbc')"
      ],
      "metadata": {
        "id": "oddRGivxwoa7"
      },
      "execution_count": null,
      "outputs": []
    },
    {
      "cell_type": "code",
      "execution_count": null,
      "metadata": {
        "id": "34Iqd18iwTTP"
      },
      "outputs": [],
      "source": [
        "def pyomo(data):\n",
        "  global model_lab6_ex2\n",
        "  model_lab6_ex2=ConcreteModel()\n",
        "  M=len(data[:,0])\n",
        "  N=len(data[0,:])\n",
        "  global row_indices\n",
        "  row_indices=np.arange(M)\n",
        "  global col_indices\n",
        "  col_indices=np.arange(N)\n",
        "  model_lab6_ex2.x=Var(row_indices,col_indices,domain=Binary)\n",
        "  model_lab6_ex2.objective=Objective(expr=sum(model_lab6_ex2.x[i,j]*data[i,j] for i in row_indices for j in col_indices),sense= minimize)\n",
        "  model_lab6_ex2.constraints=ConstraintList()\n",
        "  for i in row_indices:\n",
        "      model_lab6_ex2.constraints.add(expr=sum(model_lab6_ex2.x[i,j] for j in col_indices) ==1)\n",
        "  for i in col_indices:\n",
        "     model_lab6_ex2.constraints.add(expr=sum(model_lab6_ex2.x[j,i] for j in row_indices) ==1)  "
      ]
    },
    {
      "cell_type": "code",
      "source": [
        "cost_matrix=np.loadtxt('lab6_ex2.txt',delimiter='   ')"
      ],
      "metadata": {
        "id": "MLEDmH5MwoeT"
      },
      "execution_count": null,
      "outputs": []
    },
    {
      "cell_type": "code",
      "source": [
        "pyomo(cost_matrix)"
      ],
      "metadata": {
        "id": "OSnXcYotw_KA"
      },
      "execution_count": null,
      "outputs": []
    },
    {
      "cell_type": "code",
      "source": [
        "  result = opt_cbc.solve(model_lab6_ex2)\n",
        "  print('Solver status:', result.solver.status)\n",
        "  print('Solver termination condition:',result.solver.termination_condition)\n",
        "  # display solution\n",
        "  print('\\nObjective = ', model_lab6_ex2.objective())\n",
        "\n",
        "  print('\\nDecision Variables')\n",
        "  for i in row_indices:\n",
        "      for j in col_indices:\n",
        "          if model_lab6_ex2.x[i,j].value !=0:\n",
        "               print('Factory',i+1,'is located to',j+1,'location')\n"
      ],
      "metadata": {
        "colab": {
          "base_uri": "https://localhost:8080/"
        },
        "id": "mOV_ovbt4kkC",
        "outputId": "2aad105c-1cb5-4137-b952-ff5c409e1b84"
      },
      "execution_count": null,
      "outputs": [
        {
          "output_type": "stream",
          "name": "stdout",
          "text": [
            "Solver status: ok\n",
            "Solver termination condition: optimal\n",
            "\n",
            "Objective =  204.0\n",
            "\n",
            "Decision Variables\n",
            "Factory 1 is located to 11 location\n",
            "Factory 2 is located to 9 location\n",
            "Factory 3 is located to 8 location\n",
            "Factory 4 is located to 6 location\n",
            "Factory 5 is located to 3 location\n",
            "Factory 6 is located to 12 location\n",
            "Factory 7 is located to 7 location\n",
            "Factory 8 is located to 4 location\n",
            "Factory 9 is located to 10 location\n",
            "Factory 10 is located to 1 location\n",
            "Factory 11 is located to 2 location\n",
            "Factory 12 is located to 5 location\n"
          ]
        }
      ]
    },
    {
      "cell_type": "markdown",
      "source": [
        "$\\huge{solution \\ \\ of  \\ \\ 2.8}$\n",
        "\n",
        "cost =  204.0\n",
        "\n",
        "Factory 1 is located to 11 location\n",
        "\n",
        "Factory 2 is located to 9 location\n",
        "\n",
        "Factory 3 is located to 8 location\n",
        "\n",
        "Factory 4 is located to 6 location\n",
        "\n",
        "Factory 5 is located to 3 location\n",
        "\n",
        "Factory 6 is located to 12 location\n",
        "\n",
        "Factory 7 is located to 7 location\n",
        "\n",
        "Factory 8 is located to 4 location\n",
        "\n",
        "Factory 9 is located to 10 location\n",
        "\n",
        "Factory 10 is located to 1 location\n",
        "\n",
        "Factory 11 is located to 2 location\n",
        "\n",
        "Factory 12 is located to 5 location"
      ],
      "metadata": {
        "id": "77GCLfkJ5CRR"
      }
    },
    {
      "cell_type": "code",
      "source": [
        "model_lab6_ex2.x.domain=Reals\n",
        "model_lab6_ex2.x.setlb(0)\n",
        "model_lab6_ex2.x.setub(1)"
      ],
      "metadata": {
        "id": "O4Q9VbQAw_U5"
      },
      "execution_count": null,
      "outputs": []
    },
    {
      "cell_type": "code",
      "source": [
        "  result = opt_cbc.solve(model_lab6_ex2)\n",
        "  print('Solver status:', result.solver.status)\n",
        "  print('Solver termination condition:',result.solver.termination_condition)\n",
        "  # display solution\n",
        "  print('\\nObjective = ', model_lab6_ex2.objective())\n",
        "\n",
        "  print('\\nDecision Variables')\n",
        "  for i in row_indices:\n",
        "      for j in col_indices:\n",
        "          if model_lab6_ex2.x[i,j].value !=0:\n",
        "               print('Factory',i+1,'is located to',j+1,'location')\n"
      ],
      "metadata": {
        "colab": {
          "base_uri": "https://localhost:8080/"
        },
        "id": "MsKlT54d3Vpn",
        "outputId": "ef733071-030f-4b1b-a204-669e7d8f2c10"
      },
      "execution_count": null,
      "outputs": [
        {
          "output_type": "stream",
          "name": "stdout",
          "text": [
            "Solver status: ok\n",
            "Solver termination condition: optimal\n",
            "\n",
            "Objective =  204.0\n",
            "\n",
            "Decision Variables\n",
            "Factory 1 is located to 11 location\n",
            "Factory 2 is located to 9 location\n",
            "Factory 3 is located to 8 location\n",
            "Factory 4 is located to 6 location\n",
            "Factory 5 is located to 3 location\n",
            "Factory 6 is located to 12 location\n",
            "Factory 7 is located to 7 location\n",
            "Factory 8 is located to 4 location\n",
            "Factory 9 is located to 10 location\n",
            "Factory 10 is located to 1 location\n",
            "Factory 11 is located to 2 location\n",
            "Factory 12 is located to 5 location\n"
          ]
        }
      ]
    },
    {
      "cell_type": "markdown",
      "source": [
        "$\\huge{solution \\ \\ of  \\ \\ 2.9}$\n",
        "\n",
        "cost =  204.0\n",
        "\n",
        "Factory 1 is located to 11 location\n",
        "\n",
        "Factory 2 is located to 9 location\n",
        "\n",
        "Factory 3 is located to 8 location\n",
        "\n",
        "Factory 4 is located to 6 location\n",
        "\n",
        "Factory 5 is located to 3 location\n",
        "\n",
        "Factory 6 is located to 12 location\n",
        "\n",
        "Factory 7 is located to 7 location\n",
        "\n",
        "Factory 8 is located to 4 location\n",
        "\n",
        "Factory 9 is located to 10 location\n",
        "\n",
        "Factory 10 is located to 1 location\n",
        "\n",
        "Factory 11 is located to 2 location\n",
        "\n",
        "Factory 12 is located to 5 location"
      ],
      "metadata": {
        "id": "WM6ZVSS85c9r"
      }
    },
    {
      "cell_type": "markdown",
      "source": [
        "$\\huge{solution \\ \\ of \\ \\ 2.10}$\n",
        "\n",
        "The MILP is bounded by some polyhedron with the additional constraint that only the integral points are feasible. The LP MODEL  is the same polyhedron where all points are feasible. Therefore, the first condition is satisfied as the set of all points in a polyhedron must logically include all integral points in the same polyhedron\n",
        "\n",
        "now,if we  solve LP  and all variables are integral. Either (MILP) has the integrality property (where the optimal solution of the corresponding LP will always be integral, such as with LPs with totally unimodular matrices), or we were lucky and the optimal solution of MILP touches the edge of the polyhedron that bounds the feasible region\n",
        "\n",
        "we can be certain that (for a minimisation problem), the optimal value to the corresponding MILP must be at least the optimal solution to LP, since the set of feasible points of MILP is contained inside that of LP, and because the function values of MILP at any arbitrary point is at least as great as that of LP at the same point.\n",
        "\n",
        "i.e if soltion of LP is integer lies in the feasible reason of MILP then both solution are equal i.e feasible solution for the MILP is a feasible solution to the LP, and the reversed is not always so, i.e. a feasible solution for the LP is not necessarily a feasible solution for the MILP\n",
        "\n"
      ],
      "metadata": {
        "id": "uZSRhH5A58SD"
      }
    },
    {
      "cell_type": "markdown",
      "source": [],
      "metadata": {
        "id": "EdiZDe8z6CTZ"
      }
    },
    {
      "cell_type": "code",
      "source": [
        "def result():\n",
        "  result = opt_cbc.solve(model_lab6_ex2)\n",
        "  # display solution\n",
        "  print('\\nObjective = ', model_lab6_ex2.objective())\n",
        "\n",
        "  print('\\nDecision Variables')\n",
        "  for i in row_indices:\n",
        "      for j in col_indices:\n",
        "        if model_lab6_ex2.x[i,j].value!=0:\n",
        "               print('x',i,j,'=',model_lab6_ex2.x[i,j].value)\n",
        "\n"
      ],
      "metadata": {
        "id": "7EJfAR9t8vJn"
      },
      "execution_count": null,
      "outputs": []
    },
    {
      "cell_type": "code",
      "source": [
        "def result1():\n",
        "  result = opt_cbc.solve(model_lab6_ex2)\n",
        "  for i in row_indices:\n",
        "      for j in col_indices:\n",
        "        if model_lab6_ex2.x[i,j].value==float:\n",
        "               print('x',i,j,'=',model_lab6_ex2.x[i,j].value)"
      ],
      "metadata": {
        "id": "zwhcICqMS_Om"
      },
      "execution_count": null,
      "outputs": []
    },
    {
      "cell_type": "code",
      "source": [
        "'''for i in range(10000):\n",
        "  c=rd.sample(range(12),1)\n",
        "  d=rd.sample(range(12),1)\n",
        "  e=rd.uniform(0,1)\n",
        "  if e<=0.5:\n",
        "    f=40*e\n",
        "  else:\n",
        "    f=20*e\n",
        "  print(c,d,f)\n",
        "  m=cost_matrix[c[0],d[0]]\n",
        "  cost_matrix[c[0],d[0]]=float(f)\n",
        "  pyomo(cost_matrix)\n",
        "  model_lab6_ex2.x.domain=Reals\n",
        "  model_lab6_ex2.x.setlb(0)\n",
        "  model_lab6_ex2.x.setub(1)\n",
        "  cost_matrix[c[0],d[0]]=m\n",
        "  result1())'''"
      ],
      "metadata": {
        "colab": {
          "base_uri": "https://localhost:8080/",
          "height": 72
        },
        "id": "ttBCejlNS6yk",
        "outputId": "b58b5f4a-eb95-433a-d2d8-a9818c24efc3"
      },
      "execution_count": null,
      "outputs": [
        {
          "output_type": "execute_result",
          "data": {
            "text/plain": [
              "'for i in range(10000):\\n  c=rd.sample(range(12),1)\\n  d=rd.sample(range(12),1)\\n  e=rd.uniform(0,1)\\n  if e<=0.5:\\n    f=40*e\\n  else:\\n    f=20*e\\n  print(c,d,f)\\n  m=cost_matrix[c[0],d[0]]\\n  cost_matrix[c[0],d[0]]=float(f)\\n  pyomo(cost_matrix)\\n  model_lab6_ex2.x.domain=Reals\\n  model_lab6_ex2.x.setlb(0)\\n  model_lab6_ex2.x.setub(1)\\n  cost_matrix[c[0],d[0]]=m\\n  result1())'"
            ],
            "application/vnd.google.colaboratory.intrinsic+json": {
              "type": "string"
            }
          },
          "metadata": {},
          "execution_count": 15
        }
      ]
    },
    {
      "cell_type": "code",
      "source": [
        "for i in range(10):\n",
        "  c=rd.sample(range(12),1)\n",
        "  d=rd.sample(range(12),1)\n",
        "  e=rd.uniform(0,1)\n",
        "  if e<=0.5:\n",
        "    f=40*e\n",
        "  else:\n",
        "    f=20*e\n",
        "  print(c,d,f)\n",
        "  m=cost_matrix[c[0],d[0]]\n",
        "  cost_matrix[c[0],d[0]]=float(f)\n",
        "  pyomo(cost_matrix)\n",
        "  model_lab6_ex2.x.domain=Reals\n",
        "  model_lab6_ex2.x.setlb(0)\n",
        "  model_lab6_ex2.x.setub(1)\n",
        "  cost_matrix[c[0],d[0]]=m\n",
        "  result()\n",
        "\n",
        "\n"
      ],
      "metadata": {
        "colab": {
          "base_uri": "https://localhost:8080/"
        },
        "id": "mdgeSzKW66TG",
        "outputId": "6f5cafbc-ca0e-48a6-bf4c-322b327b764f"
      },
      "execution_count": null,
      "outputs": [
        {
          "output_type": "stream",
          "name": "stdout",
          "text": [
            "[1] [8] 12.589844070961165\n",
            "\n",
            "Objective =  200.58984407096116\n",
            "\n",
            "Decision Variables\n",
            "x 0 10 = 1.0\n",
            "x 1 8 = 1.0\n",
            "x 2 7 = 1.0\n",
            "x 3 5 = 1.0\n",
            "x 4 2 = 1.0\n",
            "x 5 11 = 1.0\n",
            "x 6 6 = 1.0\n",
            "x 7 3 = 1.0\n",
            "x 8 9 = 1.0\n",
            "x 9 0 = 1.0\n",
            "x 10 1 = 1.0\n",
            "x 11 4 = 1.0\n",
            "[9] [8] 15.34923632258456\n",
            "\n",
            "Objective =  203.34923632258455\n",
            "\n",
            "Decision Variables\n",
            "x 0 11 = 1.0\n",
            "x 1 10 = 1.0\n",
            "x 2 7 = 1.0\n",
            "x 3 0 = 1.0\n",
            "x 4 2 = 1.0\n",
            "x 5 5 = 1.0\n",
            "x 6 6 = 1.0\n",
            "x 7 3 = 1.0\n",
            "x 8 9 = 1.0\n",
            "x 9 8 = 1.0\n",
            "x 10 1 = 1.0\n",
            "x 11 4 = 1.0\n",
            "[3] [7] 17.856528337139757\n",
            "\n",
            "Objective =  204.0\n",
            "\n",
            "Decision Variables\n",
            "x 0 10 = 1.0\n",
            "x 1 8 = 1.0\n",
            "x 2 7 = 1.0\n",
            "x 3 5 = 1.0\n",
            "x 4 2 = 1.0\n",
            "x 5 11 = 1.0\n",
            "x 6 6 = 1.0\n",
            "x 7 3 = 1.0\n",
            "x 8 9 = 1.0\n",
            "x 9 0 = 1.0\n",
            "x 10 1 = 1.0\n",
            "x 11 4 = 1.0\n",
            "[6] [11] 17.42767008432199\n",
            "\n",
            "Objective =  200.427670084322\n",
            "\n",
            "Decision Variables\n",
            "x 0 10 = 1.0\n",
            "x 1 8 = 1.0\n",
            "x 2 6 = 1.0\n",
            "x 3 4 = 1.0\n",
            "x 4 2 = 1.0\n",
            "x 5 5 = 1.0\n",
            "x 6 11 = 1.0\n",
            "x 7 3 = 1.0\n",
            "x 8 9 = 1.0\n",
            "x 9 0 = 1.0\n",
            "x 10 1 = 1.0\n",
            "x 11 7 = 1.0\n",
            "[5] [10] 5.052546273638532\n",
            "\n",
            "Objective =  192.05254627363854\n",
            "\n",
            "Decision Variables\n",
            "x 0 11 = 1.0\n",
            "x 1 8 = 1.0\n",
            "x 2 7 = 1.0\n",
            "x 3 5 = 1.0\n",
            "x 4 2 = 1.0\n",
            "x 5 10 = 1.0\n",
            "x 6 6 = 1.0\n",
            "x 7 3 = 1.0\n",
            "x 8 9 = 1.0\n",
            "x 9 0 = 1.0\n",
            "x 10 1 = 1.0\n",
            "x 11 4 = 1.0\n",
            "[6] [10] 16.28149966106841\n",
            "\n",
            "Objective =  200.2814996610684\n",
            "\n",
            "Decision Variables\n",
            "x 0 7 = 1.0\n",
            "x 1 8 = 1.0\n",
            "x 2 6 = 1.0\n",
            "x 3 5 = 1.0\n",
            "x 4 2 = 1.0\n",
            "x 5 11 = 1.0\n",
            "x 6 10 = 1.0\n",
            "x 7 3 = 1.0\n",
            "x 8 9 = 1.0\n",
            "x 9 0 = 1.0\n",
            "x 10 1 = 1.0\n",
            "x 11 4 = 1.0\n",
            "[8] [4] 10.205160993887517\n",
            "\n",
            "Objective =  194.20516099388752\n",
            "\n",
            "Decision Variables\n",
            "x 0 10 = 1.0\n",
            "x 1 8 = 1.0\n",
            "x 2 9 = 1.0\n",
            "x 3 5 = 1.0\n",
            "x 4 2 = 1.0\n",
            "x 5 11 = 1.0\n",
            "x 6 6 = 1.0\n",
            "x 7 3 = 1.0\n",
            "x 8 4 = 1.0\n",
            "x 9 0 = 1.0\n",
            "x 10 1 = 1.0\n",
            "x 11 7 = 1.0\n",
            "[7] [10] 17.54129017903206\n",
            "\n",
            "Objective =  203.54129017903205\n",
            "\n",
            "Decision Variables\n",
            "x 0 11 = 1.0\n",
            "x 1 8 = 1.0\n",
            "x 2 7 = 1.0\n",
            "x 3 5 = 1.0\n",
            "x 4 2 = 1.0\n",
            "x 5 3 = 1.0\n",
            "x 6 6 = 1.0\n",
            "x 7 10 = 1.0\n",
            "x 8 9 = 1.0\n",
            "x 9 0 = 1.0\n",
            "x 10 1 = 1.0\n",
            "x 11 4 = 1.0\n",
            "[5] [0] 18.60139677700673\n",
            "\n",
            "Objective =  204.0\n",
            "\n",
            "Decision Variables\n",
            "x 0 10 = 1.0\n",
            "x 1 8 = 1.0\n",
            "x 2 7 = 1.0\n",
            "x 3 5 = 1.0\n",
            "x 4 2 = 1.0\n",
            "x 5 11 = 1.0\n",
            "x 6 6 = 1.0\n",
            "x 7 3 = 1.0\n",
            "x 8 9 = 1.0\n",
            "x 9 0 = 1.0\n",
            "x 10 1 = 1.0\n",
            "x 11 4 = 1.0\n",
            "[2] [2] 14.240791046819133\n",
            "\n",
            "Objective =  204.0\n",
            "\n",
            "Decision Variables\n",
            "x 0 10 = 1.0\n",
            "x 1 8 = 1.0\n",
            "x 2 7 = 1.0\n",
            "x 3 5 = 1.0\n",
            "x 4 2 = 1.0\n",
            "x 5 11 = 1.0\n",
            "x 6 6 = 1.0\n",
            "x 7 3 = 1.0\n",
            "x 8 9 = 1.0\n",
            "x 9 0 = 1.0\n",
            "x 10 1 = 1.0\n",
            "x 11 4 = 1.0\n"
          ]
        }
      ]
    },
    {
      "cell_type": "markdown",
      "source": [
        "$\\huge{solution \\ \\ of \\ \\ 2.12}$\n",
        "\n",
        "since 3 can't assign to location 4  \n",
        " \n",
        "  9 can't assign to location 6\n",
        " \n",
        "  4 can't assign to laction 10\n",
        "\n",
        "  for this we can changed  the text file by increasing the corresponding facility and location cost i.e if we take corresponding facility and location cost sufficiently large then our pyomo model doesn't assign that location since  we have to minimize cost and cost of corresponding location is too high \n",
        "\n",
        "\n",
        "  since in optimize solution it doesn't assign  (3,4)(9,6)(4,10) because it cost is already sufficientle large (it doesn't effect the soltion) so we have no need to change in code  we can see by below code "
      ],
      "metadata": {
        "id": "5aPE5KUFARi7"
      }
    },
    {
      "cell_type": "code",
      "source": [
        "cost_matrix[2,3]=10000000\n",
        "cost_matrix[8,5]=10000000\n",
        "cost_matrix[3,9]=10000000"
      ],
      "metadata": {
        "id": "e5ibAygHAQJx"
      },
      "execution_count": null,
      "outputs": []
    },
    {
      "cell_type": "code",
      "source": [
        "model_lab6_ex2.x.setub(np.inf)\n",
        "model_lab6_ex2.x.setlb(-np.inf)\n",
        "model_lab6_ex2.x.domain=Binary"
      ],
      "metadata": {
        "id": "-dlDi6vVAQfW"
      },
      "execution_count": null,
      "outputs": []
    },
    {
      "cell_type": "code",
      "source": [
        "  result = opt_cbc.solve(model_lab6_ex2)\n",
        "  print('Solver status:', result.solver.status)\n",
        "  print('Solver termination condition:',result.solver.termination_condition)\n",
        "  # display solution\n",
        "  print('\\nObjective = ', model_lab6_ex2.objective())\n",
        "\n",
        "  print('\\nDecision Variables')\n",
        "  for i in row_indices:\n",
        "      for j in col_indices:\n",
        "          if model_lab6_ex2.x[i,j].value !=0:\n",
        "               print('Factory',i+1,'is located to',j+1,'location')\n",
        "\n",
        "  print('\\nConstraints')\n",
        "  model_lab6_ex2.constraints.display()"
      ],
      "metadata": {
        "id": "4xIGyik2AQlF",
        "colab": {
          "base_uri": "https://localhost:8080/"
        },
        "outputId": "7ed41437-38f9-44ea-bdbc-c9717d6455ec"
      },
      "execution_count": null,
      "outputs": [
        {
          "output_type": "stream",
          "name": "stdout",
          "text": [
            "Solver status: ok\n",
            "Solver termination condition: optimal\n",
            "\n",
            "Objective =  204.0\n",
            "\n",
            "Decision Variables\n",
            "Factory 1 is located to 11 location\n",
            "Factory 2 is located to 9 location\n",
            "Factory 3 is located to 8 location\n",
            "Factory 4 is located to 6 location\n",
            "Factory 5 is located to 3 location\n",
            "Factory 6 is located to 12 location\n",
            "Factory 7 is located to 7 location\n",
            "Factory 8 is located to 4 location\n",
            "Factory 9 is located to 10 location\n",
            "Factory 10 is located to 1 location\n",
            "Factory 11 is located to 2 location\n",
            "Factory 12 is located to 5 location\n",
            "\n",
            "Constraints\n",
            "constraints : Size=24\n",
            "    Key : Lower : Body : Upper\n",
            "      1 :   1.0 :  1.0 :   1.0\n",
            "      2 :   1.0 :  1.0 :   1.0\n",
            "      3 :   1.0 :  1.0 :   1.0\n",
            "      4 :   1.0 :  1.0 :   1.0\n",
            "      5 :   1.0 :  1.0 :   1.0\n",
            "      6 :   1.0 :  1.0 :   1.0\n",
            "      7 :   1.0 :  1.0 :   1.0\n",
            "      8 :   1.0 :  1.0 :   1.0\n",
            "      9 :   1.0 :  1.0 :   1.0\n",
            "     10 :   1.0 :  1.0 :   1.0\n",
            "     11 :   1.0 :  1.0 :   1.0\n",
            "     12 :   1.0 :  1.0 :   1.0\n",
            "     13 :   1.0 :  1.0 :   1.0\n",
            "     14 :   1.0 :  1.0 :   1.0\n",
            "     15 :   1.0 :  1.0 :   1.0\n",
            "     16 :   1.0 :  1.0 :   1.0\n",
            "     17 :   1.0 :  1.0 :   1.0\n",
            "     18 :   1.0 :  1.0 :   1.0\n",
            "     19 :   1.0 :  1.0 :   1.0\n",
            "     20 :   1.0 :  1.0 :   1.0\n",
            "     21 :   1.0 :  1.0 :   1.0\n",
            "     22 :   1.0 :  1.0 :   1.0\n",
            "     23 :   1.0 :  1.0 :   1.0\n",
            "     24 :   1.0 :  1.0 :   1.0\n"
          ]
        }
      ]
    },
    {
      "cell_type": "markdown",
      "source": [
        "$\\huge{solution \\ \\  of \\ \\ 2.12}$\n",
        "\n",
        "cost =204\n",
        "\n",
        "Factory 1 is located to 11 location\n",
        "\n",
        "Factory 2 is located to 9 location\n",
        "\n",
        "Factory 3 is located to 8 location\n",
        "\n",
        "Factory 4 is located to 6 location\n",
        "\n",
        "Factory 5 is located to 3 location\n",
        "\n",
        "Factory 6 is located to 12 location\n",
        "\n",
        "Factory 7 is located to 7 location\n",
        "\n",
        "Factory 8 is located to 4 location\n",
        "\n",
        "Factory 9 is located to 10 location\n",
        "\n",
        "Factory 10 is located to 1 location\n",
        "\n",
        "Factory 11 is located to 2 location\n",
        "\n",
        "Factory 12 is located to 5 location\n",
        "\n",
        "$\\huge{observation}$\n",
        "\n",
        "since in optimize solution it doesn't assign  (3,4)(9,6)(4,10) because it cost is already sufficientle large (it doesn't effect the soltion) so we have no need to change in code \n",
        "\n",
        "our complete solution is same as above this situation doesn't effect it"
      ],
      "metadata": {
        "id": "RjEzWYj6AwdL"
      }
    }
  ]
}