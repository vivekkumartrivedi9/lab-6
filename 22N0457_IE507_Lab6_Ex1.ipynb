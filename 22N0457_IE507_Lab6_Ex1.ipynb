{
  "nbformat": 4,
  "nbformat_minor": 0,
  "metadata": {
    "colab": {
      "provenance": [],
      "collapsed_sections": []
    },
    "kernelspec": {
      "name": "python3",
      "display_name": "Python 3"
    },
    "language_info": {
      "name": "python"
    }
  },
  "cells": [
    {
      "cell_type": "markdown",
      "source": [
        "Let C[w, m] be the cost of transporting one truck-load of EVs from w to m and $x_{w \\ m} $ be  number of truck-loads of EVs transported from w to m\n",
        "\n",
        "where w is warehouses location and m is market location\n",
        "\n",
        "general optimisation problem is \n",
        "\n",
        "min $ \\sum_{w=1}^{w=n} \\sum_{m=1}^{m=k} C[w,m]*x_{w \\ m} $\n",
        "\n",
        "$ \\sum_{w=1}^{w=n} x_{w \\ j} =b_j \\ \\ \\  ∀j \\in m=(1,2,3,4,.........k) $\n",
        "\n",
        "$ \\sum_{m=1}^{m=k} x_{i \\ m} \\le c_i \\ \\ \\ ∀i \\in w=(1,2,3,4,5,6,........n)$\n",
        "\n",
        "w=(1,2,3,4,5,6,..........n)\n",
        "\n",
        "m=(1,2,3,4,5,6,..........k)\n",
        "\n",
        "$b_j$ is the  demand at $j^{th}$ market\n",
        "\n",
        "$c_i$ is be available stock at $i^{th}$ location\n",
        "\n",
        "$x_{w \\ m } \\ge 0 \\ \\ \\ and \\ \\ must \\ \\  be \\ \\ integer$\n",
        "\n",
        "i.e $x_{w \\ m} \\in (0,1,2,3,4,5,..............)$\n",
        "\n",
        "\n",
        "in our problem\n",
        "\n",
        "w = ( 1,2,3,4,5,6,7,8) correspoding to warehouse location (Ahmedabad,Bengaluru,Chennai,Delhi,Kolkata,Lucknow,Mumbai,Hyderabad) \n",
        "\n",
        "and m= (1,2,3,4,5,6,7,8) corresponding to market location ( Hassan,Jodhpur,Trichy,Simla,Vijayawada,Dibrugarh,Raipur,Agartala)\n",
        "\n",
        "now our optimisation problem becomes \n",
        "\n",
        "min $ \\sum_{w=1}^{w=8} \\sum_{m=1}^{m=8} C[w,m]*x_{w \\ m} $\n",
        "\n",
        "subjected to \n",
        "\n",
        "$ \\sum_{w=1}^{w=8} x_{w \\ 1} =205$\n",
        "\n",
        "$ \\sum_{w=1}^{w=8} x_{w \\ 2} =300$\n",
        "\n",
        "$ \\sum_{w=1}^{w=8} x_{w \\ 3} =425$\n",
        "\n",
        "$ \\sum_{w=1}^{w=8} x_{w \\ 4} =270$\n",
        "\n",
        "$ \\sum_{w=1}^{w=8} x_{w \\ 5} =375$\n",
        "\n",
        "$ \\sum_{w=1}^{w=8} x_{w \\ 6} =225$\n",
        "\n",
        "$ \\sum_{w=1}^{w=8} x_{w \\ 7} =185$\n",
        "\n",
        "$ \\sum_{w=1}^{w=8} x_{w \\ 8} =110$\n",
        "\n",
        "$ \\sum_{m=1}^{m=8} x_{1 \\ m} \\le350$\n",
        "\n",
        "$ \\sum_{m=1}^{m=8} x_{2 \\ m} \\le185$\n",
        "\n",
        "$ \\sum_{m=1}^{m=8} x_{3 \\ m} \\le305$\n",
        "\n",
        "$ \\sum_{m=1}^{m=8} x_{4 \\ m} \\le180$\n",
        "\n",
        "$ \\sum_{m=1}^{m=8} x_{5 \\ m} \\le205$\n",
        "\n",
        "$ \\sum_{m=1}^{m=8} x_{6 \\ m} \\le175$\n",
        "\n",
        "$ \\sum_{m=1}^{m=8} x_{7 \\ m} \\le325$\n",
        "\n",
        "$ \\sum_{m=1}^{m=8} x_{8 \\ m} \\le370$\n",
        "\n",
        "$x_{w \\ m } \\ge 0 \\ \\ \\ and \\ \\ must \\ \\  be \\ \\ integer$\n",
        "\n",
        "i.e $x_{w \\ m} \\in (0,1,2,3,4,5,..............)$\n",
        "\n",
        "\n",
        "\n",
        "\n"
      ],
      "metadata": {
        "id": "DObnr7SPaaE1"
      }
    },
    {
      "cell_type": "code",
      "execution_count": null,
      "metadata": {
        "id": "TL68k8sMgOL6"
      },
      "outputs": [],
      "source": [
        "!pip install -q pyomo"
      ]
    },
    {
      "cell_type": "code",
      "source": [
        "from pyomo.environ import *"
      ],
      "metadata": {
        "id": "eeNwV1KKhsXr"
      },
      "execution_count": null,
      "outputs": []
    },
    {
      "cell_type": "code",
      "source": [
        "import numpy as np"
      ],
      "metadata": {
        "id": "NF5hvR35hzfj"
      },
      "execution_count": null,
      "outputs": []
    },
    {
      "cell_type": "code",
      "source": [
        "import pandas as pd\n"
      ],
      "metadata": {
        "id": "dGOhP7mvh3TS"
      },
      "execution_count": null,
      "outputs": []
    },
    {
      "cell_type": "code",
      "source": [
        "data_csvfile = pd.read_csv('lab6_ex1.csv')"
      ],
      "metadata": {
        "id": "rYTYOU5gh7zQ"
      },
      "execution_count": null,
      "outputs": []
    },
    {
      "cell_type": "code",
      "source": [
        "print(data_csvfile)"
      ],
      "metadata": {
        "colab": {
          "base_uri": "https://localhost:8080/"
        },
        "id": "fZ5dRcMciJI-",
        "outputId": "b5be5fa9-b892-4874-dfef-2e0deb42cdae"
      },
      "execution_count": null,
      "outputs": [
        {
          "output_type": "stream",
          "name": "stdout",
          "text": [
            "   Warehouses  Hassan  Jodhpur  Trichy  Simla  Vijayawada  Dibrugarh  Raipur  \\\n",
            "0  Ahmedabad      827      817    1470   2272        1615       3143    1264   \n",
            "1   Bengaluru     559     1832     751   3772         637       3773    1856   \n",
            "2     Chennai    1109     2443     577   3865         798       3521    1984   \n",
            "3       Delhi    2943     1471    4676   1337        2702       2741    2482   \n",
            "4     Kolkata    3742     3089    2931   3199        2226       1739    1691   \n",
            "5     Lucknow    2353     1160    3295    368        2369       2365    1293   \n",
            "6      Mumbai    1356     1617    2045   2941        2334       4151    1937   \n",
            "7   Hyderabad     195     1862    1331   2921         402       2825     563   \n",
            "8      Demand     205      300     425    270         375        225     185   \n",
            "\n",
            "   Agartala  Available_Stock  \n",
            "0      4465              350  \n",
            "1      5459              185  \n",
            "2      5303              305  \n",
            "3      4148              180  \n",
            "4      2128              205  \n",
            "5      3642              175  \n",
            "6      4287              325  \n",
            "7      4441              370  \n",
            "8       110             2095  \n"
          ]
        }
      ]
    },
    {
      "cell_type": "code",
      "source": [
        "model_lab6_ex1= ConcreteModel()"
      ],
      "metadata": {
        "id": "6ZpmmFPBidAy"
      },
      "execution_count": null,
      "outputs": []
    },
    {
      "cell_type": "code",
      "source": [
        "M=len(data_csvfile.index)-1"
      ],
      "metadata": {
        "id": "qlwn3e4kilH_"
      },
      "execution_count": null,
      "outputs": []
    },
    {
      "cell_type": "code",
      "source": [
        "N=len(data_csvfile.columns)-2"
      ],
      "metadata": {
        "id": "4lzWgiccjIZg"
      },
      "execution_count": null,
      "outputs": []
    },
    {
      "cell_type": "code",
      "source": [
        "row_indices=range(M)\n",
        "col_indices = range(N)"
      ],
      "metadata": {
        "id": "NTtXAh6QkIU6"
      },
      "execution_count": null,
      "outputs": []
    },
    {
      "cell_type": "code",
      "source": [
        "model_lab6_ex1.x = Var(row_indices,col_indices,domain=NonNegativeIntegers)"
      ],
      "metadata": {
        "id": "pK_jumlcka5z"
      },
      "execution_count": null,
      "outputs": []
    },
    {
      "cell_type": "code",
      "source": [
        "model_lab6_ex1.objective=Objective(expr=sum(data_csvfile.iloc[i,j+1]*model_lab6_ex1.x[i,j] for i in row_indices for j in col_indices),sense=minimize)"
      ],
      "metadata": {
        "id": "5Wm4Ghe-k0GV"
      },
      "execution_count": null,
      "outputs": []
    },
    {
      "cell_type": "code",
      "source": [
        "model_lab6_ex1.constraints=ConstraintList()"
      ],
      "metadata": {
        "id": "2gGj1kDflerA"
      },
      "execution_count": null,
      "outputs": []
    },
    {
      "cell_type": "code",
      "source": [
        "for i in row_indices:\n",
        "  model_lab6_ex1.constraints.add(expr=sum(model_lab6_ex1.x[i,j] for j in col_indices) <= data_csvfile.iloc[i,-1])"
      ],
      "metadata": {
        "id": "kGKs65falo2O"
      },
      "execution_count": null,
      "outputs": []
    },
    {
      "cell_type": "code",
      "source": [
        "for j in col_indices:\n",
        "  model_lab6_ex1.constraints.add(expr=sum(model_lab6_ex1.x[i,j] for i in row_indices)==data_csvfile.iloc[M,j+1])"
      ],
      "metadata": {
        "id": "1kT5NnQ9oK6I"
      },
      "execution_count": null,
      "outputs": []
    },
    {
      "cell_type": "code",
      "source": [
        "model_lab6_ex1.pprint()"
      ],
      "metadata": {
        "colab": {
          "base_uri": "https://localhost:8080/"
        },
        "id": "9vQFcXi-p3yg",
        "outputId": "5825ed3d-9526-4015-819b-ec2bbf5f6a2f"
      },
      "execution_count": null,
      "outputs": [
        {
          "output_type": "stream",
          "name": "stdout",
          "text": [
            "4 Set Declarations\n",
            "    constraints_index : Size=1, Index=None, Ordered=Insertion\n",
            "        Key  : Dimen : Domain : Size : Members\n",
            "        None :     1 :    Any :   16 : {1, 2, 3, 4, 5, 6, 7, 8, 9, 10, 11, 12, 13, 14, 15, 16}\n",
            "    x_index : Size=1, Index=None, Ordered=True\n",
            "        Key  : Dimen : Domain              : Size : Members\n",
            "        None :     2 : x_index_0*x_index_1 :   64 : {(0, 0), (0, 1), (0, 2), (0, 3), (0, 4), (0, 5), (0, 6), (0, 7), (1, 0), (1, 1), (1, 2), (1, 3), (1, 4), (1, 5), (1, 6), (1, 7), (2, 0), (2, 1), (2, 2), (2, 3), (2, 4), (2, 5), (2, 6), (2, 7), (3, 0), (3, 1), (3, 2), (3, 3), (3, 4), (3, 5), (3, 6), (3, 7), (4, 0), (4, 1), (4, 2), (4, 3), (4, 4), (4, 5), (4, 6), (4, 7), (5, 0), (5, 1), (5, 2), (5, 3), (5, 4), (5, 5), (5, 6), (5, 7), (6, 0), (6, 1), (6, 2), (6, 3), (6, 4), (6, 5), (6, 6), (6, 7), (7, 0), (7, 1), (7, 2), (7, 3), (7, 4), (7, 5), (7, 6), (7, 7)}\n",
            "    x_index_0 : Size=1, Index=None, Ordered=Insertion\n",
            "        Key  : Dimen : Domain : Size : Members\n",
            "        None :     1 :    Any :    8 : {0, 1, 2, 3, 4, 5, 6, 7}\n",
            "    x_index_1 : Size=1, Index=None, Ordered=Insertion\n",
            "        Key  : Dimen : Domain : Size : Members\n",
            "        None :     1 :    Any :    8 : {0, 1, 2, 3, 4, 5, 6, 7}\n",
            "\n",
            "1 Var Declarations\n",
            "    x : Size=64, Index=x_index\n",
            "        Key    : Lower : Value : Upper : Fixed : Stale : Domain\n",
            "        (0, 0) :     0 :  None :  None : False :  True : NonNegativeIntegers\n",
            "        (0, 1) :     0 :  None :  None : False :  True : NonNegativeIntegers\n",
            "        (0, 2) :     0 :  None :  None : False :  True : NonNegativeIntegers\n",
            "        (0, 3) :     0 :  None :  None : False :  True : NonNegativeIntegers\n",
            "        (0, 4) :     0 :  None :  None : False :  True : NonNegativeIntegers\n",
            "        (0, 5) :     0 :  None :  None : False :  True : NonNegativeIntegers\n",
            "        (0, 6) :     0 :  None :  None : False :  True : NonNegativeIntegers\n",
            "        (0, 7) :     0 :  None :  None : False :  True : NonNegativeIntegers\n",
            "        (1, 0) :     0 :  None :  None : False :  True : NonNegativeIntegers\n",
            "        (1, 1) :     0 :  None :  None : False :  True : NonNegativeIntegers\n",
            "        (1, 2) :     0 :  None :  None : False :  True : NonNegativeIntegers\n",
            "        (1, 3) :     0 :  None :  None : False :  True : NonNegativeIntegers\n",
            "        (1, 4) :     0 :  None :  None : False :  True : NonNegativeIntegers\n",
            "        (1, 5) :     0 :  None :  None : False :  True : NonNegativeIntegers\n",
            "        (1, 6) :     0 :  None :  None : False :  True : NonNegativeIntegers\n",
            "        (1, 7) :     0 :  None :  None : False :  True : NonNegativeIntegers\n",
            "        (2, 0) :     0 :  None :  None : False :  True : NonNegativeIntegers\n",
            "        (2, 1) :     0 :  None :  None : False :  True : NonNegativeIntegers\n",
            "        (2, 2) :     0 :  None :  None : False :  True : NonNegativeIntegers\n",
            "        (2, 3) :     0 :  None :  None : False :  True : NonNegativeIntegers\n",
            "        (2, 4) :     0 :  None :  None : False :  True : NonNegativeIntegers\n",
            "        (2, 5) :     0 :  None :  None : False :  True : NonNegativeIntegers\n",
            "        (2, 6) :     0 :  None :  None : False :  True : NonNegativeIntegers\n",
            "        (2, 7) :     0 :  None :  None : False :  True : NonNegativeIntegers\n",
            "        (3, 0) :     0 :  None :  None : False :  True : NonNegativeIntegers\n",
            "        (3, 1) :     0 :  None :  None : False :  True : NonNegativeIntegers\n",
            "        (3, 2) :     0 :  None :  None : False :  True : NonNegativeIntegers\n",
            "        (3, 3) :     0 :  None :  None : False :  True : NonNegativeIntegers\n",
            "        (3, 4) :     0 :  None :  None : False :  True : NonNegativeIntegers\n",
            "        (3, 5) :     0 :  None :  None : False :  True : NonNegativeIntegers\n",
            "        (3, 6) :     0 :  None :  None : False :  True : NonNegativeIntegers\n",
            "        (3, 7) :     0 :  None :  None : False :  True : NonNegativeIntegers\n",
            "        (4, 0) :     0 :  None :  None : False :  True : NonNegativeIntegers\n",
            "        (4, 1) :     0 :  None :  None : False :  True : NonNegativeIntegers\n",
            "        (4, 2) :     0 :  None :  None : False :  True : NonNegativeIntegers\n",
            "        (4, 3) :     0 :  None :  None : False :  True : NonNegativeIntegers\n",
            "        (4, 4) :     0 :  None :  None : False :  True : NonNegativeIntegers\n",
            "        (4, 5) :     0 :  None :  None : False :  True : NonNegativeIntegers\n",
            "        (4, 6) :     0 :  None :  None : False :  True : NonNegativeIntegers\n",
            "        (4, 7) :     0 :  None :  None : False :  True : NonNegativeIntegers\n",
            "        (5, 0) :     0 :  None :  None : False :  True : NonNegativeIntegers\n",
            "        (5, 1) :     0 :  None :  None : False :  True : NonNegativeIntegers\n",
            "        (5, 2) :     0 :  None :  None : False :  True : NonNegativeIntegers\n",
            "        (5, 3) :     0 :  None :  None : False :  True : NonNegativeIntegers\n",
            "        (5, 4) :     0 :  None :  None : False :  True : NonNegativeIntegers\n",
            "        (5, 5) :     0 :  None :  None : False :  True : NonNegativeIntegers\n",
            "        (5, 6) :     0 :  None :  None : False :  True : NonNegativeIntegers\n",
            "        (5, 7) :     0 :  None :  None : False :  True : NonNegativeIntegers\n",
            "        (6, 0) :     0 :  None :  None : False :  True : NonNegativeIntegers\n",
            "        (6, 1) :     0 :  None :  None : False :  True : NonNegativeIntegers\n",
            "        (6, 2) :     0 :  None :  None : False :  True : NonNegativeIntegers\n",
            "        (6, 3) :     0 :  None :  None : False :  True : NonNegativeIntegers\n",
            "        (6, 4) :     0 :  None :  None : False :  True : NonNegativeIntegers\n",
            "        (6, 5) :     0 :  None :  None : False :  True : NonNegativeIntegers\n",
            "        (6, 6) :     0 :  None :  None : False :  True : NonNegativeIntegers\n",
            "        (6, 7) :     0 :  None :  None : False :  True : NonNegativeIntegers\n",
            "        (7, 0) :     0 :  None :  None : False :  True : NonNegativeIntegers\n",
            "        (7, 1) :     0 :  None :  None : False :  True : NonNegativeIntegers\n",
            "        (7, 2) :     0 :  None :  None : False :  True : NonNegativeIntegers\n",
            "        (7, 3) :     0 :  None :  None : False :  True : NonNegativeIntegers\n",
            "        (7, 4) :     0 :  None :  None : False :  True : NonNegativeIntegers\n",
            "        (7, 5) :     0 :  None :  None : False :  True : NonNegativeIntegers\n",
            "        (7, 6) :     0 :  None :  None : False :  True : NonNegativeIntegers\n",
            "        (7, 7) :     0 :  None :  None : False :  True : NonNegativeIntegers\n",
            "\n",
            "1 Objective Declarations\n",
            "    objective : Size=1, Index=None, Active=True\n",
            "        Key  : Active : Sense    : Expression\n",
            "        None :   True : minimize : 827*x[0,0] + 817*x[0,1] + 1470*x[0,2] + 2272*x[0,3] + 1615*x[0,4] + 3143*x[0,5] + 1264*x[0,6] + 4465*x[0,7] + 559*x[1,0] + 1832*x[1,1] + 751*x[1,2] + 3772*x[1,3] + 637*x[1,4] + 3773*x[1,5] + 1856*x[1,6] + 5459*x[1,7] + 1109*x[2,0] + 2443*x[2,1] + 577*x[2,2] + 3865*x[2,3] + 798*x[2,4] + 3521*x[2,5] + 1984*x[2,6] + 5303*x[2,7] + 2943*x[3,0] + 1471*x[3,1] + 4676*x[3,2] + 1337*x[3,3] + 2702*x[3,4] + 2741*x[3,5] + 2482*x[3,6] + 4148*x[3,7] + 3742*x[4,0] + 3089*x[4,1] + 2931*x[4,2] + 3199*x[4,3] + 2226*x[4,4] + 1739*x[4,5] + 1691*x[4,6] + 2128*x[4,7] + 2353*x[5,0] + 1160*x[5,1] + 3295*x[5,2] + 368*x[5,3] + 2369*x[5,4] + 2365*x[5,5] + 1293*x[5,6] + 3642*x[5,7] + 1356*x[6,0] + 1617*x[6,1] + 2045*x[6,2] + 2941*x[6,3] + 2334*x[6,4] + 4151*x[6,5] + 1937*x[6,6] + 4287*x[6,7] + 195*x[7,0] + 1862*x[7,1] + 1331*x[7,2] + 2921*x[7,3] + 402*x[7,4] + 2825*x[7,5] + 563*x[7,6] + 4441*x[7,7]\n",
            "\n",
            "1 Constraint Declarations\n",
            "    constraints : Size=16, Index=constraints_index, Active=True\n",
            "        Key : Lower : Body                                                                  : Upper : Active\n",
            "          1 :  -Inf : x[0,0] + x[0,1] + x[0,2] + x[0,3] + x[0,4] + x[0,5] + x[0,6] + x[0,7] : 350.0 :   True\n",
            "          2 :  -Inf : x[1,0] + x[1,1] + x[1,2] + x[1,3] + x[1,4] + x[1,5] + x[1,6] + x[1,7] : 185.0 :   True\n",
            "          3 :  -Inf : x[2,0] + x[2,1] + x[2,2] + x[2,3] + x[2,4] + x[2,5] + x[2,6] + x[2,7] : 305.0 :   True\n",
            "          4 :  -Inf : x[3,0] + x[3,1] + x[3,2] + x[3,3] + x[3,4] + x[3,5] + x[3,6] + x[3,7] : 180.0 :   True\n",
            "          5 :  -Inf : x[4,0] + x[4,1] + x[4,2] + x[4,3] + x[4,4] + x[4,5] + x[4,6] + x[4,7] : 205.0 :   True\n",
            "          6 :  -Inf : x[5,0] + x[5,1] + x[5,2] + x[5,3] + x[5,4] + x[5,5] + x[5,6] + x[5,7] : 175.0 :   True\n",
            "          7 :  -Inf : x[6,0] + x[6,1] + x[6,2] + x[6,3] + x[6,4] + x[6,5] + x[6,6] + x[6,7] : 325.0 :   True\n",
            "          8 :  -Inf : x[7,0] + x[7,1] + x[7,2] + x[7,3] + x[7,4] + x[7,5] + x[7,6] + x[7,7] : 370.0 :   True\n",
            "          9 : 205.0 : x[0,0] + x[1,0] + x[2,0] + x[3,0] + x[4,0] + x[5,0] + x[6,0] + x[7,0] : 205.0 :   True\n",
            "         10 : 300.0 : x[0,1] + x[1,1] + x[2,1] + x[3,1] + x[4,1] + x[5,1] + x[6,1] + x[7,1] : 300.0 :   True\n",
            "         11 : 425.0 : x[0,2] + x[1,2] + x[2,2] + x[3,2] + x[4,2] + x[5,2] + x[6,2] + x[7,2] : 425.0 :   True\n",
            "         12 : 270.0 : x[0,3] + x[1,3] + x[2,3] + x[3,3] + x[4,3] + x[5,3] + x[6,3] + x[7,3] : 270.0 :   True\n",
            "         13 : 375.0 : x[0,4] + x[1,4] + x[2,4] + x[3,4] + x[4,4] + x[5,4] + x[6,4] + x[7,4] : 375.0 :   True\n",
            "         14 : 225.0 : x[0,5] + x[1,5] + x[2,5] + x[3,5] + x[4,5] + x[5,5] + x[6,5] + x[7,5] : 225.0 :   True\n",
            "         15 : 185.0 : x[0,6] + x[1,6] + x[2,6] + x[3,6] + x[4,6] + x[5,6] + x[6,6] + x[7,6] : 185.0 :   True\n",
            "         16 : 110.0 : x[0,7] + x[1,7] + x[2,7] + x[3,7] + x[4,7] + x[5,7] + x[6,7] + x[7,7] : 110.0 :   True\n",
            "\n",
            "7 Declarations: x_index_0 x_index_1 x_index x objective constraints_index constraints\n"
          ]
        }
      ]
    },
    {
      "cell_type": "code",
      "source": [
        "!apt-get install -y -qq coinor-cbc"
      ],
      "metadata": {
        "id": "c0d6L9k6qF_m"
      },
      "execution_count": null,
      "outputs": []
    },
    {
      "cell_type": "code",
      "source": [
        "opt_cbc = SolverFactory('cbc')"
      ],
      "metadata": {
        "id": "POOl-d98qL8R"
      },
      "execution_count": null,
      "outputs": []
    },
    {
      "cell_type": "code",
      "source": [
        "result = opt_cbc.solve(model_lab6_ex1)\n",
        "print('Solver status:', result.solver.status)\n",
        "print('Solver termination condition:',result.solver.termination_condition)"
      ],
      "metadata": {
        "colab": {
          "base_uri": "https://localhost:8080/"
        },
        "id": "GlsQmYFHqQqh",
        "outputId": "0c858408-3b11-4c50-915b-3cc7d0452842"
      },
      "execution_count": null,
      "outputs": [
        {
          "output_type": "stream",
          "name": "stdout",
          "text": [
            "Solver status: ok\n",
            "Solver termination condition: optimal\n"
          ]
        }
      ]
    },
    {
      "cell_type": "code",
      "source": [
        "print('\\nObjective = ', model_lab6_ex1.objective())\n",
        "\n",
        "print('\\nDecision Variables')\n",
        "for i in row_indices:\n",
        "  for j in col_indices:\n",
        "    if model_lab6_ex1.x[i,j].value != 0:\n",
        "      print(' number of truck-loads of EVs transported from ',data_csvfile['Warehouses'][i],' to ', data_csvfile.columns[j+1],'=', model_lab6_ex1.x[i,j].value)\n",
        "\n",
        "print('\\nConstraints')\n",
        "model_lab6_ex1.constraints.display()"
      ],
      "metadata": {
        "colab": {
          "base_uri": "https://localhost:8080/"
        },
        "id": "RvtvgiklqVx7",
        "outputId": "66f6c400-e385-43a9-df06-37a7c760794b"
      },
      "execution_count": null,
      "outputs": [
        {
          "output_type": "stream",
          "name": "stdout",
          "text": [
            "\n",
            "Objective =  2192870.0\n",
            "\n",
            "Decision Variables\n",
            " number of truck-loads of EVs transported from  Ahmedabad   to  Jodhpur = 300.0\n",
            " number of truck-loads of EVs transported from  Ahmedabad   to  Dibrugarh = 45.0\n",
            " number of truck-loads of EVs transported from  Ahmedabad   to  Raipur = 5.0\n",
            " number of truck-loads of EVs transported from  Bengaluru  to  Trichy = 120.0\n",
            " number of truck-loads of EVs transported from  Bengaluru  to  Vijayawada = 65.0\n",
            " number of truck-loads of EVs transported from  Chennai  to  Trichy = 305.0\n",
            " number of truck-loads of EVs transported from  Delhi  to  Simla = 95.0\n",
            " number of truck-loads of EVs transported from  Delhi  to  Dibrugarh = 85.0\n",
            " number of truck-loads of EVs transported from  Kolkata  to  Dibrugarh = 95.0\n",
            " number of truck-loads of EVs transported from  Kolkata  to  Agartala = 110.0\n",
            " number of truck-loads of EVs transported from  Lucknow  to  Simla = 175.0\n",
            " number of truck-loads of EVs transported from  Mumbai  to  Hassan = 205.0\n",
            " number of truck-loads of EVs transported from  Mumbai  to  Raipur = 120.0\n",
            " number of truck-loads of EVs transported from  Hyderabad  to  Vijayawada = 310.0\n",
            " number of truck-loads of EVs transported from  Hyderabad  to  Raipur = 60.0\n",
            "\n",
            "Constraints\n",
            "constraints : Size=16\n",
            "    Key : Lower : Body  : Upper\n",
            "      1 :  None : 350.0 : 350.0\n",
            "      2 :  None : 185.0 : 185.0\n",
            "      3 :  None : 305.0 : 305.0\n",
            "      4 :  None : 180.0 : 180.0\n",
            "      5 :  None : 205.0 : 205.0\n",
            "      6 :  None : 175.0 : 175.0\n",
            "      7 :  None : 325.0 : 325.0\n",
            "      8 :  None : 370.0 : 370.0\n",
            "      9 : 205.0 : 205.0 : 205.0\n",
            "     10 : 300.0 : 300.0 : 300.0\n",
            "     11 : 425.0 : 425.0 : 425.0\n",
            "     12 : 270.0 : 270.0 : 270.0\n",
            "     13 : 375.0 : 375.0 : 375.0\n",
            "     14 : 225.0 : 225.0 : 225.0\n",
            "     15 : 185.0 : 185.0 : 185.0\n",
            "     16 : 110.0 : 110.0 : 110.0\n"
          ]
        }
      ]
    },
    {
      "cell_type": "markdown",
      "source": [
        "$ \\huge(solution \\ \\ of \\ \\ 1.7) $\n",
        "\n",
        "total cost = 2192870.0\n",
        "\n",
        "number of truck-loads of EVs transported from  Ahmedabad   to  Jodhpur = 300.0\n",
        " \n",
        " number of truck-loads of EVs transported from  Ahmedabad   to  Dibrugarh = 45.0\n",
        " \n",
        " number of truck-loads of EVs transported from  Ahmedabad   to  Raipur = 5.0\n",
        " \n",
        " number of truck-loads of EVs transported from  Bengaluru  to  Trichy = 120.0\n",
        " \n",
        " number of truck-loads of EVs transported from  Bengaluru  to  Vijayawada = 65.0\n",
        " \n",
        " number of truck-loads of EVs transported from  Chennai  to  Trichy = 305.0\n",
        " \n",
        " number of truck-loads of EVs transported from  Delhi  to  Simla = 95.0\n",
        " \n",
        " number of truck-loads of EVs transported from  Delhi  to  Dibrugarh = 85.0\n",
        " \n",
        " number of truck-loads of EVs transported from  Kolkata  to  Dibrugarh = 95.0\n",
        " \n",
        " number of truck-loads of EVs transported from  Kolkata  to  Agartala = 110.0\n",
        " \n",
        " number of truck-loads of EVs transported from  Lucknow  to  Simla = 175.0\n",
        " \n",
        " number of truck-loads of EVs transported from  Mumbai  to  Hassan = 205.0\n",
        " \n",
        " number of truck-loads of EVs transported from  Mumbai  to  Raipur = 120.0\n",
        " \n",
        " number of truck-loads of EVs transported from  Hyderabad  to  Vijayawada = 310.0\n",
        " \n",
        " number of truck-loads of EVs transported from  Hyderabad  to  Raipur = 60.0\n",
        "\n",
        "\n",
        "\n"
      ],
      "metadata": {
        "id": "2lRHBZsrnQ-K"
      }
    },
    {
      "cell_type": "markdown",
      "source": [
        "$\\huge(solution \\ \\ of \\ \\ 1.8)$\n",
        "\n",
        " if Lucknow-Simla link is disrupted then i change my data i.e .csv file by taking a sufficiently large cost for Lucknow-Simla route since cost is high and we minimize cost so, our pyomo model didn't recomended this route"
      ],
      "metadata": {
        "id": "lWeQKd2noDd4"
      }
    },
    {
      "cell_type": "code",
      "source": [
        "data_csvfile.iloc[5,4]= 5000000"
      ],
      "metadata": {
        "id": "PxmtVlgyr1iL"
      },
      "execution_count": null,
      "outputs": []
    },
    {
      "cell_type": "code",
      "source": [
        "model_lab6_ex1.objective=Objective(expr=sum(data_csvfile.iloc[i,j+1]*model_lab6_ex1.x[i,j] for i in row_indices for j in col_indices),sense=minimize)"
      ],
      "metadata": {
        "colab": {
          "base_uri": "https://localhost:8080/"
        },
        "id": "0Tl1bzu8tfAq",
        "outputId": "019aa9aa-d418-49c4-8dc2-dd32bccc104e"
      },
      "execution_count": null,
      "outputs": [
        {
          "output_type": "stream",
          "name": "stderr",
          "text": [
            "WARNING:pyomo.core:Implicitly replacing the Component attribute objective (type=<class 'pyomo.core.base.objective.ScalarObjective'>) on block unknown with a new Component (type=<class 'pyomo.core.base.objective.ScalarObjective'>).\n",
            "This is usually indicative of a modelling error.\n",
            "To avoid this warning, use block.del_component() and block.add_component().\n"
          ]
        }
      ]
    },
    {
      "cell_type": "code",
      "source": [
        "result = opt_cbc.solve(model_lab6_ex1)\n",
        "print('Solver status:', result.solver.status)\n",
        "print('Solver termination condition:',result.solver.termination_condition)"
      ],
      "metadata": {
        "colab": {
          "base_uri": "https://localhost:8080/"
        },
        "id": "ZQXqYGvnsQd5",
        "outputId": "2eade8a4-a629-4fa6-ac81-d9a20774d1d2"
      },
      "execution_count": null,
      "outputs": [
        {
          "output_type": "stream",
          "name": "stdout",
          "text": [
            "Solver status: ok\n",
            "Solver termination condition: optimal\n"
          ]
        }
      ]
    },
    {
      "cell_type": "code",
      "source": [
        "print('\\nObjective = ', model_lab6_ex1.objective())\n",
        "\n",
        "print('\\nDecision Variables')\n",
        "for i in row_indices:\n",
        "  for j in col_indices:\n",
        "    if model_lab6_ex1.x[i,j].value != 0:\n",
        "      print(' number of truck-loads of EVs transported from ',data_csvfile['Warehouses'][i],'to', data_csvfile.columns[j+1],'=', model_lab6_ex1.x[i,j].value)\n",
        "\n",
        "print('\\nConstraints')\n",
        "model_lab6_ex1.constraints.display()"
      ],
      "metadata": {
        "colab": {
          "base_uri": "https://localhost:8080/"
        },
        "id": "EiGJinfls1PG",
        "outputId": "b20a6d92-17e8-42ff-f8b7-8cf4d655f136"
      },
      "execution_count": null,
      "outputs": [
        {
          "output_type": "stream",
          "name": "stdout",
          "text": [
            "\n",
            "Objective =  2380570.0\n",
            "\n",
            "Decision Variables\n",
            " number of truck-loads of EVs transported from  Ahmedabad  to Jodhpur = 300.0\n",
            " number of truck-loads of EVs transported from  Ahmedabad  to Raipur = 50.0\n",
            " number of truck-loads of EVs transported from  Bengaluru to Trichy = 120.0\n",
            " number of truck-loads of EVs transported from  Bengaluru to Vijayawada = 65.0\n",
            " number of truck-loads of EVs transported from  Chennai to Trichy = 305.0\n",
            " number of truck-loads of EVs transported from  Delhi to Simla = 180.0\n",
            " number of truck-loads of EVs transported from  Kolkata to Dibrugarh = 95.0\n",
            " number of truck-loads of EVs transported from  Kolkata to Agartala = 110.0\n",
            " number of truck-loads of EVs transported from  Lucknow to Dibrugarh = 130.0\n",
            " number of truck-loads of EVs transported from  Lucknow to Raipur = 45.0\n",
            " number of truck-loads of EVs transported from  Mumbai to Hassan = 205.0\n",
            " number of truck-loads of EVs transported from  Mumbai to Simla = 90.0\n",
            " number of truck-loads of EVs transported from  Mumbai to Raipur = 30.0\n",
            " number of truck-loads of EVs transported from  Hyderabad to Vijayawada = 310.0\n",
            " number of truck-loads of EVs transported from  Hyderabad to Raipur = 60.0\n",
            "\n",
            "Constraints\n",
            "constraints : Size=16\n",
            "    Key : Lower : Body  : Upper\n",
            "      1 :  None : 350.0 : 350.0\n",
            "      2 :  None : 185.0 : 185.0\n",
            "      3 :  None : 305.0 : 305.0\n",
            "      4 :  None : 180.0 : 180.0\n",
            "      5 :  None : 205.0 : 205.0\n",
            "      6 :  None : 175.0 : 175.0\n",
            "      7 :  None : 325.0 : 325.0\n",
            "      8 :  None : 370.0 : 370.0\n",
            "      9 : 205.0 : 205.0 : 205.0\n",
            "     10 : 300.0 : 300.0 : 300.0\n",
            "     11 : 425.0 : 425.0 : 425.0\n",
            "     12 : 270.0 : 270.0 : 270.0\n",
            "     13 : 375.0 : 375.0 : 375.0\n",
            "     14 : 225.0 : 225.0 : 225.0\n",
            "     15 : 185.0 : 185.0 : 185.0\n",
            "     16 : 110.0 : 110.0 : 110.0\n"
          ]
        }
      ]
    },
    {
      "cell_type": "markdown",
      "source": [
        "$\\huge{solution \\ \\ of  \\ \\ 1.9}$\n",
        "\n",
        "cost  =  2380570.0\n",
        "\n",
        "\n",
        " number of truck-loads of EVs transported from  Ahmedabad  to Jodhpur = 300.0\n",
        "\n",
        " number of truck-loads of EVs transported from  Ahmedabad  to Raipur = 50.0\n",
        "\n",
        " number of truck-loads of EVs transported from  Bengaluru to Trichy = 120.0\n",
        "\n",
        " number of truck-loads of EVs transported from  Bengaluru to Vijayawada = 65.0\n",
        "\n",
        " number of truck-loads of EVs transported from  Chennai to Trichy = 305.0\n",
        "\n",
        " number of truck-loads of EVs transported from  Delhi to Simla = 180.0\n",
        "\n",
        " number of truck-loads of EVs transported from  Kolkata to Dibrugarh = 95.0\n",
        "\n",
        " number of truck-loads of EVs transported from  Kolkata to Agartala = 110.0\n",
        "\n",
        " number of truck-loads of EVs transported from  Lucknow to Dibrugarh = 130.0\n",
        "\n",
        " number of truck-loads of EVs transported from  Lucknow to Raipur = 45.0\n",
        "\n",
        " number of truck-loads of EVs transported from  Mumbai to Hassan = 205.0\n",
        "\n",
        " number of truck-loads of EVs transported from  Mumbai to Simla = 90.0\n",
        "\n",
        " number of truck-loads of EVs transported from  Mumbai to Raipur = 30.0\n",
        "\n",
        " number of truck-loads of EVs transported from  Hyderabad to Vijayawada = 310.0\n",
        "\n",
        " number of truck-loads of EVs transported from  Hyderabad to Raipur = 60.0\n",
        "\n",
        "\n",
        " since some route is disturbed so we have to supply that markets by another warehouses that naturally increase the cost of transport \n",
        "\n",
        " in our problem without disrupted route we supply 175 units from lucknow to simla since route is disturbed we have to supply from some other warehouse that increase cost naturally"
      ],
      "metadata": {
        "id": "4AAHaHnOpc92"
      }
    },
    {
      "cell_type": "markdown",
      "source": [
        "$\\huge{solution \\ \\ of \\ \\ 1.10}$\n",
        "\n",
        "similar to 1.8 here also we increase the cost of disturbed route sufficiently large in .csv file  \n",
        "\n",
        "since cost is high and we minimize cost so, our pyomo model didn't recomended this route"
      ],
      "metadata": {
        "id": "XBJEAFxQrbq0"
      }
    },
    {
      "cell_type": "code",
      "source": [
        "data_csvfile.iloc[4,6]=5000000"
      ],
      "metadata": {
        "id": "0RO4TLaAuKvI"
      },
      "execution_count": null,
      "outputs": []
    },
    {
      "cell_type": "code",
      "source": [
        "data_csvfile.iloc[3,7]=500000"
      ],
      "metadata": {
        "id": "RdvURFepuVH7"
      },
      "execution_count": null,
      "outputs": []
    },
    {
      "cell_type": "code",
      "source": [
        "model_lab6_ex1.objective=Objective(expr=sum(data_csvfile.iloc[i,j+1]*model_lab6_ex1.x[i,j] for i in row_indices for j in col_indices),sense=minimize)"
      ],
      "metadata": {
        "colab": {
          "base_uri": "https://localhost:8080/"
        },
        "id": "XDNXfY7NutQm",
        "outputId": "652ade52-1ecc-4aef-fae8-45913e045f30"
      },
      "execution_count": null,
      "outputs": [
        {
          "output_type": "stream",
          "name": "stderr",
          "text": [
            "WARNING:pyomo.core:Implicitly replacing the Component attribute objective (type=<class 'pyomo.core.base.objective.ScalarObjective'>) on block unknown with a new Component (type=<class 'pyomo.core.base.objective.ScalarObjective'>).\n",
            "This is usually indicative of a modelling error.\n",
            "To avoid this warning, use block.del_component() and block.add_component().\n"
          ]
        }
      ]
    },
    {
      "cell_type": "code",
      "source": [
        "result = opt_cbc.solve(model_lab6_ex1)\n",
        "print('Solver status:', result.solver.status)\n",
        "print('Solver termination condition:',result.solver.termination_condition)"
      ],
      "metadata": {
        "colab": {
          "base_uri": "https://localhost:8080/"
        },
        "id": "LG6B7WOguyOh",
        "outputId": "f6360224-3bdd-4ebc-d1ae-dd755698a2b8"
      },
      "execution_count": null,
      "outputs": [
        {
          "output_type": "stream",
          "name": "stdout",
          "text": [
            "Solver status: ok\n",
            "Solver termination condition: optimal\n"
          ]
        }
      ]
    },
    {
      "cell_type": "code",
      "source": [
        "print('\\nObjective = ', model_lab6_ex1.objective())\n",
        "\n",
        "print('\\nDecision Variables')\n",
        "for i in row_indices:\n",
        "  for j in col_indices:\n",
        "    if model_lab6_ex1.x[i,j].value != 0:\n",
        "      print(' number of truck-loads of EVs transported from',data_csvfile['Warehouses'][i],' to ', data_csvfile.columns[j+1],'=', model_lab6_ex1.x[i,j].value)\n",
        "\n",
        "print('\\nConstraints')\n",
        "model_lab6_ex1.constraints.display()"
      ],
      "metadata": {
        "colab": {
          "base_uri": "https://localhost:8080/"
        },
        "id": "xFvZYOCSu24Y",
        "outputId": "3b4ff9b7-b90c-452f-fd99-54178fc09986"
      },
      "execution_count": null,
      "outputs": [
        {
          "output_type": "stream",
          "name": "stdout",
          "text": [
            "\n",
            "Objective =  2518200.0\n",
            "\n",
            "Decision Variables\n",
            " number of truck-loads of EVs transported from Ahmedabad   to  Jodhpur = 300.0\n",
            " number of truck-loads of EVs transported from Ahmedabad   to  Dibrugarh = 50.0\n",
            " number of truck-loads of EVs transported from Bengaluru  to  Trichy = 120.0\n",
            " number of truck-loads of EVs transported from Bengaluru  to  Vijayawada = 65.0\n",
            " number of truck-loads of EVs transported from Chennai  to  Trichy = 305.0\n",
            " number of truck-loads of EVs transported from Delhi  to  Simla = 180.0\n",
            " number of truck-loads of EVs transported from Kolkata  to  Raipur = 95.0\n",
            " number of truck-loads of EVs transported from Kolkata  to  Agartala = 110.0\n",
            " number of truck-loads of EVs transported from Lucknow  to  Dibrugarh = 175.0\n",
            " number of truck-loads of EVs transported from Mumbai  to  Hassan = 205.0\n",
            " number of truck-loads of EVs transported from Mumbai  to  Simla = 90.0\n",
            " number of truck-loads of EVs transported from Mumbai  to  Raipur = 30.0\n",
            " number of truck-loads of EVs transported from Hyderabad  to  Vijayawada = 310.0\n",
            " number of truck-loads of EVs transported from Hyderabad  to  Raipur = 60.0\n",
            "\n",
            "Constraints\n",
            "constraints : Size=16\n",
            "    Key : Lower : Body  : Upper\n",
            "      1 :  None : 350.0 : 350.0\n",
            "      2 :  None : 185.0 : 185.0\n",
            "      3 :  None : 305.0 : 305.0\n",
            "      4 :  None : 180.0 : 180.0\n",
            "      5 :  None : 205.0 : 205.0\n",
            "      6 :  None : 175.0 : 175.0\n",
            "      7 :  None : 325.0 : 325.0\n",
            "      8 :  None : 370.0 : 370.0\n",
            "      9 : 205.0 : 205.0 : 205.0\n",
            "     10 : 300.0 : 300.0 : 300.0\n",
            "     11 : 425.0 : 425.0 : 425.0\n",
            "     12 : 270.0 : 270.0 : 270.0\n",
            "     13 : 375.0 : 375.0 : 375.0\n",
            "     14 : 225.0 : 225.0 : 225.0\n",
            "     15 : 185.0 : 185.0 : 185.0\n",
            "     16 : 110.0 : 110.0 : 110.0\n"
          ]
        }
      ]
    },
    {
      "cell_type": "markdown",
      "source": [
        "$\\huge{solution \\ \\ of \\ \\ 1.11 }$\n",
        "\n",
        "cost = 2518200.0\n",
        "\n",
        " number of truck-loads of EVs transported from Ahmedabad   to  Jodhpur = 300.0\n",
        "\n",
        " number of truck-loads of EVs transported from Ahmedabad   to  Dibrugarh = 50.0\n",
        "\n",
        " number of truck-loads of EVs transported from Bengaluru  to  Trichy = 120.0\n",
        "\n",
        " number of truck-loads of EVs transported from Bengaluru  to  Vijayawada = 65.0\n",
        "\n",
        " number of truck-loads of EVs transported from Chennai  to  Trichy = 305.0\n",
        "\n",
        " number of truck-loads of EVs transported from Delhi  to  Simla = 180.0\n",
        "\n",
        " number of truck-loads of EVs transported from Kolkata  to  Raipur = 95.0\n",
        "\n",
        " number of truck-loads of EVs transported from Kolkata  to  Agartala = 110.0\n",
        "\n",
        " number of truck-loads of EVs transported from Lucknow  to  Dibrugarh = 175.0\n",
        "\n",
        " number of truck-loads of EVs transported from Mumbai  to  Hassan = 205.0\n",
        "\n",
        " number of truck-loads of EVs transported from Mumbai  to  Simla = 90.0\n",
        "\n",
        " number of truck-loads of EVs transported from Mumbai  to  Raipur = 30.0\n",
        "\n",
        " number of truck-loads of EVs transported from Hyderabad  to  Vijayawada = 310.0\n",
        "\n",
        " number of truck-loads of EVs transported from Hyderabad  to  Raipur = 60.0\n",
        "\n",
        " $\\huge{observation}$\n",
        " \n",
        "\n",
        " since some route is disturbed so we have to supply that markets by another warehouses that naturally increase the cost of transport \n",
        "\n",
        " in our problem without disrupted route our cost of supply is 2192870.0 after one route (lucknow-simla) distubed the cost is 2380570.0  and now after 3 route is disturbed the cost increase and finally cost becomes 2518200.0\n",
        " \n",
        "   since route is disturbed we have to supply from some other warehouse that increase cost naturally"
      ],
      "metadata": {
        "id": "1ys0dfsnsH0c"
      }
    }
  ]
}